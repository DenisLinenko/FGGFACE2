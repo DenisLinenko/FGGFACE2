{
 "cells": [
  {
   "cell_type": "code",
   "execution_count": 1,
   "metadata": {},
   "outputs": [],
   "source": [
    "%matplotlib inline\n",
    "from os import listdir\n",
    "from os.path import isdir\n",
    "from PIL import Image\n",
    "from matplotlib import pyplot\n",
    "from numpy import savez_compressed\n",
    "from numpy import asarray\n",
    "from mtcnn.mtcnn import MTCNN\n",
    "from numpy import load\n",
    "from numpy import expand_dims\n",
    "from keras.models import load_model\n",
    "from sklearn.metrics import accuracy_score\n",
    "from sklearn.preprocessing import LabelEncoder\n",
    "from sklearn.preprocessing import Normalizer\n",
    "from sklearn.svm import SVC\n",
    "from scipy.spatial.distance import cosine\n",
    "from scipy.spatial import distance\n",
    "import scipy\n",
    "import matplotlib.pyplot as plt\n",
    "import matplotlib.image as mpimg\n",
    "from matplotlib import rcParams\n",
    "import ast\n",
    "import tensorflow as tf\n"
   ]
  },
  {
   "cell_type": "code",
   "execution_count": 2,
   "metadata": {},
   "outputs": [],
   "source": [
    "directory1 = 'images/known/'\n",
    "directory2 = 'images/test/'"
   ]
  },
  {
   "cell_type": "code",
   "execution_count": 3,
   "metadata": {},
   "outputs": [],
   "source": [
    "def read_file():\n",
    "    file = open(\"File.txt\", \"r\")\n",
    "    contents = file.read()\n",
    "    dictionary = ast.literal_eval(contents)\n",
    "    file.close()\n",
    "    return dictionary"
   ]
  },
  {
   "cell_type": "code",
   "execution_count": 4,
   "metadata": {},
   "outputs": [],
   "source": [
    "def find_images_matching_criteria(dictionary1, criteria):\n",
    "    known_image = ''\n",
    "    test_image = ''\n",
    "    for key, value in dictionary1.items():\n",
    "        if(key == criteria):\n",
    "            known_image = value[0]\n",
    "            test_image = value[1]\n",
    "    return known_image, test_image"
   ]
  },
  {
   "cell_type": "code",
   "execution_count": 5,
   "metadata": {},
   "outputs": [],
   "source": [
    "def generating_dataset(known_image, test_image):\n",
    "    directory1 = 'images/known/'\n",
    "    directory2 = 'images/test/'\n",
    "    trainX, trainy = load_dataset(directory1, known_image)\n",
    "    testX, testy = load_dataset(directory2, test_image)\n",
    "    savez_compressed('dataset_for_image.npz', trainX, trainy, testX, testy)\n"
   ]
  },
  {
   "cell_type": "code",
   "execution_count": 6,
   "metadata": {},
   "outputs": [
    {
     "name": "stdout",
     "output_type": "stream",
     "text": [
      "Populating the interactive namespace from numpy and matplotlib\n"
     ]
    }
   ],
   "source": [
    "def load_dataset(directory, fname1):\n",
    "    X,y = list(), list()\n",
    "    path = directory + '/' + fname1 + '.jpg'\n",
    "    faces = load_faces(path)\n",
    "    labels = fname1\n",
    "    X.extend(faces)\n",
    "    y.extend(labels)\n",
    "    \n",
    "    return asarray(X), asarray(y)\n",
    "\n",
    "def load_faces(directory):\n",
    "    faces = list()\n",
    "    face = extract_face(directory)\n",
    "    faces.append(face)\n",
    "    return faces\n",
    "\n",
    "def extract_face(filename, required_size=(160,160)):\n",
    "    \n",
    "    image = Image.open(filename)\n",
    "    image = image.convert('RGB')\n",
    "    pixels = asarray(image)\n",
    "    detector = MTCNN()\n",
    "    results = detector.detect_faces(pixels)\n",
    "    \n",
    "    x1, y1, width, height = results[0]['box']\n",
    "    x1, y1 = abs(x1), abs(y1)\n",
    "    x2, y2 = x1 + width, y1 + height\n",
    "    \n",
    "    face = pixels[y1:y2, x1:x2]\n",
    "    image = Image.fromarray(face)\n",
    "    image = image.resize(required_size)\n",
    "    face_array = asarray(image)\n",
    "    \n",
    "\n",
    "    return face_array\n",
    "\n",
    "     \n",
    "\n",
    "%pylab inline\n",
    "def plot_initial_images(directory1, directory2, known_image, test_image):\n",
    "    path_known = directory1 + '/' + known_image + '.jpg'\n",
    "    path_test = directory2 + '/' + test_image + '.jpg'\n",
    "    rcParams['figure.figsize'] = 13 ,10\n",
    "    img_A = mpimg.imread(path_known)\n",
    "    img_B = mpimg.imread(path_test)\n",
    "    fig, ax = plt.subplots(1,2)\n",
    "    ax[0].imshow(img_A);\n",
    "    ax[1].imshow(img_B);\n",
    "    \n"
   ]
  },
  {
   "cell_type": "code",
   "execution_count": 8,
   "metadata": {},
   "outputs": [],
   "source": [
    "def get_embedding(model, face_pixels):\n",
    "    face_pixels = face_pixels.astype('float32')\n",
    "    mean, std = face_pixels.mean(), face_pixels.std()\n",
    "    face_pixels = (face_pixels - mean) / std\n",
    "    samples = expand_dims(face_pixels, axis=0)\n",
    "    yhat = model.predict(samples)\n",
    "    return yhat[0]\n",
    "\n",
    "def creating_embeddings():\n",
    "    data = load('dataset_for_image.npz')\n",
    "    trainX, trainy, testX, testy = data['arr_0'], data['arr_1'], data['arr_2'], data['arr_3']\n",
    "    model = load_model('facenet_keras.h5')\n",
    "\n",
    "    newTrainX = list()\n",
    "    for face_pixels in trainX:\n",
    "        embedding = get_embedding(model, face_pixels)\n",
    "        newTrainX.append(embedding)\n",
    "    newTrainX = asarray(newTrainX)\n",
    "\n",
    "    newTestX = list()\n",
    "    for face_pixels in testX:\n",
    "        embedding = get_embedding(model, face_pixels)\n",
    "        newTestX.append(embedding)\n",
    "    newTestX = asarray(newTestX)\n",
    "\n",
    "    savez_compressed('embeddings_for_images_created.npz', newTrainX, trainy, newTestX, testy)\n",
    "    print(\"Embeddings generated\")"
   ]
  },
  {
   "cell_type": "code",
   "execution_count": null,
   "metadata": {},
   "outputs": [],
   "source": [
    "def loading_matching():\n",
    "    data1 = load('embeddings_for_images_created.npz')\n",
    "    trainX, trainy, testX, testy = data1['arr_0'], data1['arr_1'], data1['arr_2'], data1['arr_3']\n",
    "    is_match(trainX, testX)\n",
    "    \n",
    "def is_match(known_embedding, candidate_embedding, thresh=0.5):\n",
    "    score = cosine(known_embedding, candidate_embedding)\n",
    "    if score<=thresh:\n",
    "        print('Face is a Match (%.3f <= %.3f)' % (score, thresh))\n",
    "    else:\n",
    "        print('Face is NOT a Match (%.3f > %.3f)' % (score, thresh))\n",
    "    cosine_similarity1 = 1 - score\n",
    "    cosine_similarity = cosine_similarity1 * 100\n",
    "    print(abs(cosine_similarity))"
   ]
  },
  {
   "cell_type": "code",
   "execution_count": null,
   "metadata": {},
   "outputs": [],
   "source": []
  }
 ],
 "metadata": {
  "kernelspec": {
   "display_name": "Python 3",
   "language": "python",
   "name": "python3"
  },
  "language_info": {
   "codemirror_mode": {
    "name": "ipython",
    "version": 3
   },
   "file_extension": ".py",
   "mimetype": "text/x-python",
   "name": "python",
   "nbconvert_exporter": "python",
   "pygments_lexer": "ipython3",
   "version": "3.7.3"
  }
 },
 "nbformat": 4,
 "nbformat_minor": 4
}
