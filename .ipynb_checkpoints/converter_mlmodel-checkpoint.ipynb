{
 "cells": [
  {
   "cell_type": "code",
   "execution_count": 1,
   "metadata": {},
   "outputs": [
    {
     "name": "stderr",
     "output_type": "stream",
     "text": [
      "WARNING:root:scikit-learn version 0.23.2 is not supported. Minimum required version: 0.17. Maximum required version: 0.19.2. Disabling scikit-learn conversion API.\n",
      "WARNING:root:Keras version 2.4.3 detected. Last version known to be fully compatible of Keras is 2.2.4 .\n"
     ]
    },
    {
     "name": "stdout",
     "output_type": "stream",
     "text": [
      "--------start-----------\n"
     ]
    },
    {
     "name": "stderr",
     "output_type": "stream",
     "text": [
      "Running TensorFlow Graph Passes: 100%|██████████| 5/5 [00:02<00:00,  2.08 passes/s]\n",
      "Converting Frontend ==> MIL Ops: 100%|██████████| 442/442 [00:00<00:00, 685.61 ops/s] \n",
      "Running MIL optimization passes: 100%|██████████| 17/17 [00:00<00:00, 23.63 passes/s]\n",
      "Translating MIL ==> MLModel Ops: 100%|██████████| 717/717 [00:03<00:00, 214.15 ops/s] \n",
      "/Library/Frameworks/Python.framework/Versions/3.7/lib/python3.7/site-packages/coremltools/models/model.py:119: RuntimeWarning: You will not be able to run predict() on this Core ML model. Underlying exception message was: Error compiling model: \"Error reading protobuf spec. validator error: The .mlmodel supplied is of version 4, intended for a newer version of Xcode. This version of Xcode supports model version 2 or earlier.\".\n",
      "  RuntimeWarning,\n"
     ]
    },
    {
     "name": "stdout",
     "output_type": "stream",
     "text": [
      "--------Loading the model-----------\n",
      "input {\n",
      "  name: \"input_1\"\n",
      "  type {\n",
      "    multiArrayType {\n",
      "      shape: 1\n",
      "      shape: 224\n",
      "      shape: 224\n",
      "      shape: 3\n",
      "      dataType: FLOAT32\n",
      "      shapeRange {\n",
      "        sizeRanges {\n",
      "          lowerBound: 1\n",
      "          upperBound: -1\n",
      "        }\n",
      "        sizeRanges {\n",
      "          lowerBound: 224\n",
      "          upperBound: 224\n",
      "        }\n",
      "        sizeRanges {\n",
      "          lowerBound: 224\n",
      "          upperBound: 224\n",
      "        }\n",
      "        sizeRanges {\n",
      "          lowerBound: 3\n",
      "          upperBound: 3\n",
      "        }\n",
      "      }\n",
      "    }\n",
      "  }\n",
      "}\n",
      "output {\n",
      "  name: \"Identity\"\n",
      "  type {\n",
      "    multiArrayType {\n",
      "      dataType: FLOAT32\n",
      "    }\n",
      "  }\n",
      "}\n",
      "metadata {\n",
      "  userDefined {\n",
      "    key: \"com.github.apple.coremltools.source\"\n",
      "    value: \"tensorflow==2.3.1\"\n",
      "  }\n",
      "  userDefined {\n",
      "    key: \"com.github.apple.coremltools.version\"\n",
      "    value: \"4.0\"\n",
      "  }\n",
      "}\n",
      "\n",
      "--------finish-----------\n"
     ]
    }
   ],
   "source": [
    "import tensorflow as tf\n",
    "# print(\"------__version__------->\", tf.__version__)\n",
    "import coremltools\n",
    "from keras_vggface.vggface import VGGFace\n",
    "import coremltools\n",
    "\n",
    "\n",
    "# model = tf.keras.models.load_model('rcmalli_vggface_tf_notop_resnet50.h5')\n",
    "print(\"--------start-----------\")\n",
    "\n",
    "h5_model = tf.keras.models.load_model('/Users/denis/projects/VGGFACE2/Jupiter/model.h5')\n",
    "\n",
    "#----------------first way---------------\n",
    "# coreml_model = coremltools.converters.keras.convert(model)\n",
    "\n",
    "#----------------second way---------------coreml_model = coremltools.converters.keras.convert(model, input_names=\"image\", image_input_names=\"image\", image_scale=1/255.0, class_labels=['0','1','2','3','4','5','6','7','8','9','10','11','12','13','14','15','16','17','18','19','20','21','22','23','24','25','26','27','28','29','30'])\n",
    "\n",
    "\n",
    "#----------------Different way--------------- success!!!-----------\n",
    "\n",
    "coreml_model = coremltools.convert(h5_model)\n",
    "\n",
    "#----------------we can save the coreml_model...-----------\n",
    "\n",
    "# print(\"--------Saving the model-----------\")\n",
    "# coreml_model.save('resnet50.mlmodel')\n",
    "\n",
    "\n",
    "#-----------------Loading the model-------------------------\n",
    "\n",
    "print(\"--------Loading the model-----------\")\n",
    "result_model = coremltools.models.MLModel('resnet50.mlmodel')\n",
    "\n",
    "# result_model.visualize_spec()\n",
    "print(result_model)\n",
    "      \n",
    "print(\"--------finish-----------\")\n",
    "   \n"
   ]
  }
 ],
 "metadata": {
  "kernelspec": {
   "display_name": "Python 3.7.3 64-bit",
   "language": "python",
   "name": "python37364bit1dae926334f64521bdc7fa7747baedd6"
  },
  "language_info": {
   "codemirror_mode": {
    "name": "ipython",
    "version": 3
   },
   "file_extension": ".py",
   "mimetype": "text/x-python",
   "name": "python",
   "nbconvert_exporter": "python",
   "pygments_lexer": "ipython3",
   "version": "3.7.3"
  }
 },
 "nbformat": 4,
 "nbformat_minor": 4
}
