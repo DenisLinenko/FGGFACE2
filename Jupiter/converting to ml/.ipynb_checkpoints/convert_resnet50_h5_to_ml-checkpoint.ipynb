{
 "cells": [
  {
   "cell_type": "code",
   "execution_count": 1,
   "metadata": {},
   "outputs": [
    {
     "name": "stderr",
     "output_type": "stream",
     "text": [
      "WARNING:root:scikit-learn version 0.23.2 is not supported. Minimum required version: 0.17. Maximum required version: 0.19.2. Disabling scikit-learn conversion API.\n",
      "WARNING:root:Keras version 2.4.3 detected. Last version known to be fully compatible of Keras is 2.2.4 .\n",
      "Running TensorFlow Graph Passes: 100%|██████████| 5/5 [00:01<00:00,  3.42 passes/s]\n",
      "Converting Frontend ==> MIL Ops: 100%|██████████| 48/48 [00:00<00:00, 551.89 ops/s]\n",
      "Running MIL optimization passes: 100%|██████████| 17/17 [00:00<00:00, 94.14 passes/s]\n",
      "Translating MIL ==> MLModel Ops: 100%|██████████| 118/118 [00:02<00:00, 55.82 ops/s]\n",
      "/Library/Frameworks/Python.framework/Versions/3.7/lib/python3.7/site-packages/coremltools/models/model.py:119: RuntimeWarning: You will not be able to run predict() on this Core ML model. Underlying exception message was: Error compiling model: \"Error reading protobuf spec. validator error: The .mlmodel supplied is of version 4, intended for a newer version of Xcode. This version of Xcode supports model version 2 or earlier.\".\n",
      "  RuntimeWarning,\n"
     ]
    },
    {
     "name": "stdout",
     "output_type": "stream",
     "text": [
      "Quantizing using linear quantization\n",
      "Quantizing layer vggface_vgg16/conv1_1/Conv2Dx\n",
      "Quantizing layer vggface_vgg16/conv1_2/Conv2Dx\n",
      "Quantizing layer vggface_vgg16/conv2_1/Conv2Dx\n",
      "Quantizing layer vggface_vgg16/conv2_2/Conv2Dx\n",
      "Quantizing layer vggface_vgg16/conv3_1/Conv2Dx\n",
      "Quantizing layer vggface_vgg16/conv3_2/Conv2Dx\n",
      "Quantizing layer vggface_vgg16/conv3_3/Conv2Dx\n",
      "Quantizing layer vggface_vgg16/conv4_1/Conv2Dx\n",
      "Quantizing layer vggface_vgg16/conv4_2/Conv2Dx\n",
      "Quantizing layer vggface_vgg16/conv4_3/Conv2Dx\n",
      "Quantizing layer vggface_vgg16/conv5_1/Conv2Dx\n",
      "Quantizing layer vggface_vgg16/conv5_2/Conv2Dx\n",
      "Quantizing layer vggface_vgg16/conv5_3/Conv2Dx\n"
     ]
    },
    {
     "name": "stderr",
     "output_type": "stream",
     "text": [
      "IOPub data rate exceeded.\n",
      "The notebook server will temporarily stop sending output\n",
      "to the client in order to avoid crashing it.\n",
      "To change this limit, set the config variable\n",
      "`--NotebookApp.iopub_data_rate_limit`.\n",
      "\n",
      "Current values:\n",
      "NotebookApp.iopub_data_rate_limit=1000000.0 (bytes/sec)\n",
      "NotebookApp.rate_limit_window=3.0 (secs)\n",
      "\n"
     ]
    }
   ],
   "source": [
    "import tensorflow as tf\n",
    "import coremltools\n",
    "from keras_vggface.vggface import VGGFace\n",
    "import coremltools\n",
    "from coremltools.models.neural_network import quantization_utils\n",
    "\n",
    "# model = VGGFace(model='vgg16', include_top=False, input_shape=(224, 224, 3), pooling='avg')\n",
    "\n",
    "# model.save('model_vgg16')\n",
    "\n",
    "h5_model = tf.keras.models.load_model('model_vgg16')\n",
    "\n",
    "coreml_model = coremltools.convert(h5_model)\n",
    "\n",
    "#----------------we can save the coreml_model...-----------\n",
    "\n",
    "# coreml_model.save('vgg16.mlmodel')\n",
    "\n",
    "#-----------------Loading the model-------------------------\n",
    "\n",
    "model_fp32 = coremltools.models.MLModel('vgg16.mlmodel')\n",
    "# model_fp16 = quantization_utils.quantize_weights(model_fp32, nbits=16)\n",
    "\n",
    "print(model_fp32)\n",
    "# print(model_fp16)\n",
    "\n",
    "print(\"finish\")"
   ]
  }
 ],
 "metadata": {
  "kernelspec": {
   "display_name": "Python 3.7.3 64-bit",
   "language": "python",
   "name": "python37364bit1dae926334f64521bdc7fa7747baedd6"
  },
  "language_info": {
   "codemirror_mode": {
    "name": "ipython",
    "version": 3
   },
   "file_extension": ".py",
   "mimetype": "text/x-python",
   "name": "python",
   "nbconvert_exporter": "python",
   "pygments_lexer": "ipython3",
   "version": "3.7.3"
  }
 },
 "nbformat": 4,
 "nbformat_minor": 4
}
